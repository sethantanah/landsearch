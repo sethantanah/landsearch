{
 "cells": [
  {
   "cell_type": "code",
   "execution_count": 1,
   "metadata": {},
   "outputs": [],
   "source": [
    "import os\n",
    "import folium\n",
    "from IPython.display import display, display_html, IFrame"
   ]
  },
  {
   "cell_type": "markdown",
   "metadata": {},
   "source": [
    "### Funcs"
   ]
  },
  {
   "cell_type": "code",
   "execution_count": 2,
   "metadata": {},
   "outputs": [],
   "source": [
    "def visualize_coordinates_in_notebook(point_list):\n",
    "    \"\"\"\n",
    "    Visualize a list of coordinates on a map directly in a Jupyter Notebook.\n",
    "\n",
    "    :param point_list: List of dictionaries containing latitude and longitude.\n",
    "    \"\"\"\n",
    "    # Create a folium map centered around the average latitude and longitude\n",
    "    center_lat = sum(point[\"latitude\"] for point in point_list) / len(point_list)\n",
    "    center_lon = sum(point[\"longitude\"] for point in point_list) / len(point_list)\n",
    "    map_ = folium.Map(location=[center_lat, center_lon], zoom_start=14)\n",
    "\n",
    "    plot_polygon = folium.Polygon(\n",
    "        locations=[(point[\"latitude\"], point[\"longitude\"]) for point in point_list],\n",
    "        color=\"#2196F3\",\n",
    "        weight=2,\n",
    "        fill=True,\n",
    "        fill_color=\"#2196F3\",\n",
    "        fill_opacity=0.4,\n",
    "    )\n",
    "\n",
    "    plot_polygon.add_to(map_)\n",
    "\n",
    "    # Add points to the map\n",
    "    for point in point_list:\n",
    "        folium.Marker(\n",
    "            location=[point[\"latitude\"], point[\"longitude\"]],\n",
    "            popup=f\"Lat: {point['latitude']}, Lon: {point['longitude']}\",\n",
    "        ).add_to(map_)\n",
    "\n",
    "    # Save the map to a temporary HTML file\n",
    "    map_file = \"map.html\"\n",
    "    map_.save(map_file)\n",
    "\n",
    "    full_path = os.path.abspath(map_file)\n",
    "    print(full_path)"
   ]
  },
  {
   "cell_type": "code",
   "execution_count": 4,
   "metadata": {},
   "outputs": [],
   "source": [
    "def rearrange_coordinates(point_list, sort_by=\"latitude\"):\n",
    "    \"\"\"\n",
    "    Rearrange a list of coordinates in order based on the given sorting criterion.\n",
    "\n",
    "    :param point_list: List of dictionaries containing latitude and longitude.\n",
    "    :param sort_by: The key to sort by (\"latitude\", \"longitude\", or \"both\").\n",
    "    :return: Sorted list of coordinates.\n",
    "    \"\"\"\n",
    "    if sort_by == \"latitude\":\n",
    "        return sorted(point_list, key=lambda point: point[\"latitude\"])\n",
    "    elif sort_by == \"longitude\":\n",
    "        return sorted(point_list, key=lambda point: point[\"longitude\"])\n",
    "    elif sort_by == \"both\":\n",
    "        return sorted(\n",
    "            point_list, key=lambda point: (point[\"latitude\"], point[\"longitude\"])\n",
    "        )\n",
    "    else:\n",
    "        raise ValueError(\n",
    "            \"Invalid sort_by value. Use 'latitude', 'longitude', or 'both'.\"\n",
    "        )"
   ]
  },
  {
   "cell_type": "code",
   "execution_count": 6,
   "metadata": {},
   "outputs": [],
   "source": [
    "import math\n",
    "\n",
    "\n",
    "def haversine_distance(lat1, lon1, lat2, lon2):\n",
    "    \"\"\"\n",
    "    Calculate the great-circle distance between two points on the Earth.\n",
    "    :param lat1, lon1: Latitude and Longitude of point 1 in decimal degrees.\n",
    "    :param lat2, lon2: Latitude and Longitude of point 2 in decimal degrees.\n",
    "    :return: Distance in kilometers.\n",
    "    \"\"\"\n",
    "    R = 6371  # Radius of Earth in kilometers\n",
    "    dlat = math.radians(lat2 - lat1)\n",
    "    dlon = math.radians(lon2 - lon1)\n",
    "    a = (\n",
    "        math.sin(dlat / 2) ** 2\n",
    "        + math.cos(math.radians(lat1))\n",
    "        * math.cos(math.radians(lat2))\n",
    "        * math.sin(dlon / 2) ** 2\n",
    "    )\n",
    "    c = 2 * math.atan2(math.sqrt(a), math.sqrt(1 - a))\n",
    "    return R * c\n",
    "\n",
    "\n",
    "def sort_by_distance(point_list):\n",
    "    \"\"\"\n",
    "    Sort points by distance from the first point in the list.\n",
    "    :param point_list: List of dictionaries containing latitude and longitude.\n",
    "    :return: List of points sorted by distance from the first point.\n",
    "    \"\"\"\n",
    "    if not point_list:\n",
    "        return []\n",
    "\n",
    "    # Get the reference point (the first point in the list)\n",
    "    ref_point = point_list[0]\n",
    "    ref_lat, ref_lon = ref_point[\"latitude\"], ref_point[\"longitude\"]\n",
    "\n",
    "    # Calculate distance from the reference point and sort the list\n",
    "    sorted_list = sorted(\n",
    "        point_list,\n",
    "        key=lambda point: haversine_distance(\n",
    "            ref_lat, ref_lon, point[\"latitude\"], point[\"longitude\"]\n",
    "        ),\n",
    "    )\n",
    "    return sorted_list"
   ]
  },
  {
   "cell_type": "code",
   "execution_count": 9,
   "metadata": {},
   "outputs": [],
   "source": [
    "import math\n",
    "\n",
    "\n",
    "def haversine_distance(lat1, lon1, lat2, lon2):\n",
    "    \"\"\"\n",
    "    Calculate the great-circle distance between two points on the Earth.\n",
    "    :param lat1, lon1: Latitude and Longitude of point 1 in decimal degrees.\n",
    "    :param lat2, lon2: Latitude and Longitude of point 2 in decimal degrees.\n",
    "    :return: Distance in kilometers.\n",
    "    \"\"\"\n",
    "    R = 6371  # Radius of Earth in kilometers\n",
    "    dlat = math.radians(lat2 - lat1)\n",
    "    dlon = math.radians(lon2 - lon1)\n",
    "    a = (\n",
    "        math.sin(dlat / 2) ** 2\n",
    "        + math.cos(math.radians(lat1))\n",
    "        * math.cos(math.radians(lat2))\n",
    "        * math.sin(dlon / 2) ** 2\n",
    "    )\n",
    "    c = 2 * math.atan2(math.sqrt(a), math.sqrt(1 - a))\n",
    "    return R * c\n",
    "\n",
    "\n",
    "def order_points_by_proximity(point_list):\n",
    "    \"\"\"\n",
    "    Order points by proximity chaining, starting with the first point.\n",
    "    :param point_list: List of dictionaries with latitude and longitude.\n",
    "    :return: List of points in the correct order based on proximity.\n",
    "    \"\"\"\n",
    "    if not point_list:\n",
    "        return []\n",
    "\n",
    "    ordered_points = [point_list[0]]  # Start with the first point\n",
    "    remaining_points = point_list[1:]  # Remaining points to visit\n",
    "\n",
    "    while remaining_points:\n",
    "        # Get the last point in the ordered list\n",
    "        current_point = ordered_points[-1]\n",
    "        current_lat, current_lon = current_point[\"latitude\"], current_point[\"longitude\"]\n",
    "\n",
    "        # Find the nearest point among the remaining\n",
    "        nearest_point = min(\n",
    "            remaining_points,\n",
    "            key=lambda point: haversine_distance(\n",
    "                current_lat, current_lon, point[\"latitude\"], point[\"longitude\"]\n",
    "            ),\n",
    "        )\n",
    "\n",
    "        # Add the nearest point to the ordered list and remove it from remaining points\n",
    "        ordered_points.append(nearest_point)\n",
    "        remaining_points.remove(nearest_point)\n",
    "\n",
    "    return ordered_points"
   ]
  },
  {
   "cell_type": "code",
   "execution_count": 10,
   "metadata": {},
   "outputs": [],
   "source": [
    "def order_points_by_bearing(point_list):\n",
    "    \"\"\"\n",
    "    Order points based on clockwise bearing from the first point.\n",
    "    \"\"\"\n",
    "    ref_point = point_list[0]\n",
    "    ref_lat, ref_lon = ref_point[\"latitude\"], ref_point[\"longitude\"]\n",
    "\n",
    "    def bearing(point):\n",
    "        lat, lon = point[\"latitude\"], point[\"longitude\"]\n",
    "        angle = math.atan2(lon - ref_lon, lat - ref_lat)\n",
    "        return (math.degrees(angle) + 360) % 360  # Normalize to [0, 360)\n",
    "\n",
    "    return sorted(point_list, key=bearing)"
   ]
  },
  {
   "cell_type": "code",
   "execution_count": 11,
   "metadata": {},
   "outputs": [],
   "source": [
    "import rtree\n",
    "from shapely.geometry import Point\n",
    "\n",
    "def reorder_points(points):\n",
    "    \"\"\"Reorders a list of points based on spatial proximity.\n",
    "\n",
    "    Args:\n",
    "        points: A list of dictionaries, each containing 'latitude' and 'longitude' keys.\n",
    "\n",
    "    Returns:\n",
    "        A list of reordered points.\n",
    "    \"\"\"\n",
    "    # Create an R-tree index\n",
    "    index = rtree.index.Index()\n",
    "    for i, point in enumerate(points):\n",
    "        index.insert(i, (point['longitude'], point['latitude'], point['longitude'], point['latitude']))\n",
    "\n",
    "    # Find the nearest neighbor for each point\n",
    "    reordered_points = []\n",
    "    visited = set()\n",
    "    current_index = 0  # Start with the first point\n",
    "\n",
    "    while len(reordered_points) < len(points):\n",
    "        reordered_points.append(points[current_index])\n",
    "        visited.add(current_index)\n",
    "\n",
    "        # Find the nearest neighbor that has not been visited\n",
    "        neighbors = index.nearest(\n",
    "            (points[current_index]['longitude'], points[current_index]['latitude']) * 2, \n",
    "            len(points)\n",
    "        )\n",
    "        for neighbor in neighbors:\n",
    "            if neighbor not in visited:\n",
    "                current_index = neighbor\n",
    "                break\n",
    "\n",
    "    return reordered_points\n",
    " "
   ]
  },
  {
   "cell_type": "code",
   "execution_count": null,
   "metadata": {},
   "outputs": [],
   "source": []
  },
  {
   "cell_type": "code",
   "execution_count": 12,
   "metadata": {},
   "outputs": [],
   "source": [
    "def corr_arrange_points(points):\n",
    "    \"\"\"\n",
    "    Rearrange points to form a non-intersecting polygon using Graham Scan algorithm.\n",
    "    \n",
    "    Args:\n",
    "        points (list): List of dictionaries containing latitude and longitude coordinates\n",
    "        \n",
    "    Returns:\n",
    "        list: Rearranged points forming a non-intersecting polygon\n",
    "    \"\"\"\n",
    "    def find_bottom_point(points):\n",
    "        # Find the point with the lowest y-coordinate (latitude)\n",
    "        return min(points, key=lambda p: (p['latitude'], p['longitude']))\n",
    "    \n",
    "    def calculate_angle(p1, p2):\n",
    "        # Calculate the angle between two points relative to the horizontal\n",
    "        import math\n",
    "        dx = p2['longitude'] - p1['longitude']\n",
    "        dy = p2['latitude'] - p1['latitude']\n",
    "        return math.atan2(dy, dx)\n",
    "    \n",
    "    def orientation(p1, p2, p3):\n",
    "        # Calculate the orientation of three points\n",
    "        # Returns: 0 --> collinear, 1 --> clockwise, 2 --> counterclockwise\n",
    "        val = ((p2['latitude'] - p1['latitude']) * (p3['longitude'] - p2['longitude']) -\n",
    "               (p2['longitude'] - p1['longitude']) * (p3['latitude'] - p2['latitude']))\n",
    "        if val == 0:\n",
    "            return 0\n",
    "        return 1 if val > 0 else 2\n",
    "\n",
    "    if len(points) < 3:\n",
    "        return points\n",
    "\n",
    "    # Find the bottommost point\n",
    "    bottom_point = find_bottom_point(points)\n",
    "    \n",
    "    # Sort points based on polar angle with respect to the bottom point\n",
    "    sorted_points = sorted(\n",
    "        [p for p in points if p != bottom_point],\n",
    "        key=lambda p: (calculate_angle(bottom_point, p), \n",
    "                      (p['longitude'] - bottom_point['longitude'])**2 + \n",
    "                      (p['latitude'] - bottom_point['latitude'])**2)\n",
    "    )\n",
    "    \n",
    "    # Initialize the stack with the first three points\n",
    "    stack = [bottom_point, sorted_points[0]]\n",
    "    \n",
    "    # Process remaining points\n",
    "    for i in range(1, len(sorted_points)):\n",
    "        while len(stack) > 1 and orientation(stack[-2], stack[-1], sorted_points[i]) != 2:\n",
    "            stack.pop()\n",
    "        stack.append(sorted_points[i])\n",
    "    \n",
    "    return stack"
   ]
  },
  {
   "cell_type": "markdown",
   "metadata": {},
   "source": [
    "### Data"
   ]
  },
  {
   "cell_type": "code",
   "execution_count": null,
   "metadata": {},
   "outputs": [
    {
     "data": {
      "text/plain": [
       "6"
      ]
     },
     "execution_count": 23,
     "metadata": {},
     "output_type": "execute_result"
    }
   ],
   "source": [
    "data = {\n",
    "  \"plot_info\": {\n",
    "    \"plot_number\": \"15B\",\n",
    "    \"area\": 1.78,\n",
    "    \"metric\": \"Acres\",\n",
    "    \"locality\": \"KNUST\",\n",
    "    \"district\": \"OFORIKROM\",\n",
    "    \"region\": \"ASHANTI\",\n",
    "    \"owners\": [\n",
    "      \"TRANSPORT RESEARCH & EDUCATION CENTRE\",\n",
    "      \"KUMASI (TRECK)\"\n",
    "    ],\n",
    "    \"date\": \"02/02/2022\",\n",
    "    \"scale\": \"1:2500\",\n",
    "    \"other_location_details\": \"Research Hills\",\n",
    "    \"surveyors_name\": \"DR. A. ARKO-ADJEI\",\n",
    "    \"surveyors_location\": \"P. O. BOX UP 1703 KNUST-KUMASI\",\n",
    "    \"surveyors_reg_number\": \"316\",\n",
    "    \"regional_number\": None,\n",
    "    \"reference_number\": None\n",
    "  },\n",
    "  \"survey_points\": [\n",
    "    {\n",
    "      \"point_name\": \"KNUST.TREK.10/2021/1\",\n",
    "      \"original_coords\": {\n",
    "        \"x\": 724125.686,\n",
    "        \"y\": 695158.748,\n",
    "        \"ref_point\": False\n",
    "      },\n",
    "      \"converted_coords\": {\n",
    "        \"latitude\": 6.6655264110112284,\n",
    "        \"longitude\": -1.5645176483991616,\n",
    "        \"ref_point\": False\n",
    "      },\n",
    "      \"next_point\": {\n",
    "        \"name\": None,\n",
    "        \"bearing\": None,\n",
    "        \"bearing_decimal\": None,\n",
    "        \"distance\": [\n",
    "          None\n",
    "        ]\n",
    "      }\n",
    "    },\n",
    "    {\n",
    "      \"point_name\": \"KNUST.TREK.10/2021/2\",\n",
    "      \"original_coords\": {\n",
    "        \"x\": 724103.844,\n",
    "        \"y\": 695149.339,\n",
    "        \"ref_point\": False\n",
    "      },\n",
    "      \"converted_coords\": {\n",
    "        \"latitude\": 6.665466169857804,\n",
    "        \"longitude\": -1.5645435212323173,\n",
    "        \"ref_point\": False\n",
    "      },\n",
    "      \"next_point\": {\n",
    "        \"name\": None,\n",
    "        \"bearing\": None,\n",
    "        \"bearing_decimal\": None,\n",
    "        \"distance\": [\n",
    "          None\n",
    "        ]\n",
    "      }\n",
    "    },\n",
    "    {\n",
    "      \"point_name\": \"KNUST.TREK.10/2021/3\",\n",
    "      \"original_coords\": {\n",
    "        \"x\": 724089.96,\n",
    "        \"y\": 695129.526,\n",
    "        \"ref_point\": False\n",
    "      },\n",
    "      \"converted_coords\": {\n",
    "        \"latitude\": 6.665427833607018,\n",
    "        \"longitude\": -1.5645981041468533,\n",
    "        \"ref_point\": False\n",
    "      },\n",
    "      \"next_point\": {\n",
    "        \"name\": None,\n",
    "        \"bearing\": None,\n",
    "        \"bearing_decimal\": None,\n",
    "        \"distance\": [\n",
    "          None\n",
    "        ]\n",
    "      }\n",
    "    },\n",
    "    {\n",
    "      \"point_name\": \"KNUST.TREK.10/2021/4\",\n",
    "      \"original_coords\": {\n",
    "        \"x\": 724057.009,\n",
    "        \"y\": 694842.085,\n",
    "        \"ref_point\": False\n",
    "      },\n",
    "      \"converted_coords\": {\n",
    "        \"latitude\": 6.665336091508574,\n",
    "        \"longitude\": -1.565390507351992,\n",
    "        \"ref_point\": False\n",
    "      },\n",
    "      \"next_point\": {\n",
    "        \"name\": None,\n",
    "        \"bearing\": None,\n",
    "        \"bearing_decimal\": None,\n",
    "        \"distance\": [\n",
    "          None\n",
    "        ]\n",
    "      }\n",
    "    },\n",
    "    {\n",
    "      \"point_name\": \"KNUST.TREK.10/2021/5\",\n",
    "      \"original_coords\": {\n",
    "        \"x\": 724197.311,\n",
    "        \"y\": 694820.23,\n",
    "        \"ref_point\": False\n",
    "      },\n",
    "      \"converted_coords\": {\n",
    "        \"latitude\": 6.665722790800521,\n",
    "        \"longitude\": -1.565451206986715,\n",
    "        \"ref_point\": False\n",
    "      },\n",
    "      \"next_point\": {\n",
    "        \"name\": None,\n",
    "        \"bearing\": None,\n",
    "        \"bearing_decimal\": None,\n",
    "        \"distance\": [\n",
    "          None\n",
    "        ]\n",
    "      }\n",
    "    },\n",
    "    {\n",
    "      \"point_name\": \"KNUST.CEPB.10/2021/2\",\n",
    "      \"original_coords\": {\n",
    "        \"x\": 724330.685,\n",
    "        \"y\": 695135.853,\n",
    "        \"ref_point\": False\n",
    "      },\n",
    "      \"converted_coords\": {\n",
    "        \"latitude\": 6.666091456391503,\n",
    "        \"longitude\": -1.5645814187533298,\n",
    "        \"ref_point\": False\n",
    "      },\n",
    "      \"next_point\": {\n",
    "        \"name\": None,\n",
    "        \"bearing\": None,\n",
    "        \"bearing_decimal\": None,\n",
    "        \"distance\": [\n",
    "          None\n",
    "        ]\n",
    "      }\n",
    "    }\n",
    "  ],\n",
    "  \"boundary_points\": [\n",
    "    {\n",
    "      \"point\": \"Boundary_1\",\n",
    "      \"northing\": 694500,\n",
    "      \"easting\": 723500,\n",
    "      \"latitude\": 6.583939713344206,\n",
    "      \"longitude\": -1.4862971406114294\n",
    "    },\n",
    "    {\n",
    "      \"point\": \"Boundary_2\",\n",
    "      \"northing\": 695500,\n",
    "      \"easting\": 724500,\n",
    "      \"latitude\": 6.58669911679171,\n",
    "      \"longitude\": -1.4835431116150368\n",
    "    }\n",
    "  ],\n",
    "  \"point_list\": [\n",
    "    {\n",
    "      \"latitude\": 6.665336091508574,\n",
    "      \"longitude\": -1.565390507351992,\n",
    "      \"ref_point\": False\n",
    "    },\n",
    "    {\n",
    "      \"latitude\": 6.665427833607018,\n",
    "      \"longitude\": -1.5645981041468533,\n",
    "      \"ref_point\": False\n",
    "    },\n",
    "    {\n",
    "      \"latitude\": 6.665466169857804,\n",
    "      \"longitude\": -1.5645435212323173,\n",
    "      \"ref_point\": False\n",
    "    },\n",
    "    {\n",
    "      \"latitude\": 6.6655264110112284,\n",
    "      \"longitude\": -1.5645176483991616,\n",
    "      \"ref_point\": False\n",
    "    },\n",
    "    {\n",
    "      \"latitude\": 6.666091456391503,\n",
    "      \"longitude\": -1.5645814187533298,\n",
    "      \"ref_point\": False\n",
    "    },\n",
    "    {\n",
    "      \"latitude\": 6.665722790800521,\n",
    "      \"longitude\": -1.565451206986715,\n",
    "      \"ref_point\": False\n",
    "    }\n",
    "  ]\n",
    "}\n",
    "\n",
    "point_list = data[\"point_list\"]"
   ]
  },
  {
   "cell_type": "markdown",
   "metadata": {},
   "source": [
    "### Run"
   ]
  },
  {
   "cell_type": "code",
   "execution_count": 14,
   "metadata": {},
   "outputs": [
    {
     "name": "stdout",
     "output_type": "stream",
     "text": [
      "c:\\Users\\SethAntanah\\Desktop\\Projects\\Other Projects\\Streamlit Projects\\landsearch\\src\\dev\\map.html\n"
     ]
    }
   ],
   "source": [
    "# Visualize sorted by latitude\n",
    "sorted_by_latitude = sorted(point_list, key=lambda x: x[\"latitude\"])\n",
    "visualize_coordinates_in_notebook(sorted_by_latitude)"
   ]
  },
  {
   "cell_type": "code",
   "execution_count": 15,
   "metadata": {},
   "outputs": [
    {
     "name": "stdout",
     "output_type": "stream",
     "text": [
      "c:\\Users\\SethAntanah\\Desktop\\Projects\\Other Projects\\Streamlit Projects\\landsearch\\src\\dev\\map.html\n"
     ]
    }
   ],
   "source": [
    "# Visualize sorted by latitude\n",
    "sorted_by_longitude = rearrange_coordinates(point_list, sort_by=\"longitude\")\n",
    "visualize_coordinates_in_notebook(sorted_by_longitude)"
   ]
  },
  {
   "cell_type": "code",
   "execution_count": 16,
   "metadata": {},
   "outputs": [
    {
     "name": "stdout",
     "output_type": "stream",
     "text": [
      "c:\\Users\\SethAntanah\\Desktop\\Projects\\Other Projects\\Streamlit Projects\\landsearch\\src\\dev\\map.html\n"
     ]
    }
   ],
   "source": [
    "# Sort by both latitude and longitude\n",
    "sorted_by_both = rearrange_coordinates(point_list, sort_by=\"both\")\n",
    "visualize_coordinates_in_notebook(sorted_by_both)"
   ]
  },
  {
   "cell_type": "code",
   "execution_count": 17,
   "metadata": {},
   "outputs": [
    {
     "name": "stdout",
     "output_type": "stream",
     "text": [
      "c:\\Users\\SethAntanah\\Desktop\\Projects\\Other Projects\\Streamlit Projects\\landsearch\\src\\dev\\map.html\n"
     ]
    }
   ],
   "source": [
    "sorted_by_distance = sort_by_distance(point_list)\n",
    "visualize_coordinates_in_notebook(point_list)"
   ]
  },
  {
   "cell_type": "code",
   "execution_count": 18,
   "metadata": {},
   "outputs": [
    {
     "name": "stdout",
     "output_type": "stream",
     "text": [
      "c:\\Users\\SethAntanah\\Desktop\\Projects\\Other Projects\\Streamlit Projects\\landsearch\\src\\dev\\map.html\n"
     ]
    }
   ],
   "source": [
    "# Get ordered points\n",
    "ordered_points = order_points_by_proximity(point_list)\n",
    "# Print the results\n",
    "visualize_coordinates_in_notebook(ordered_points)"
   ]
  },
  {
   "cell_type": "code",
   "execution_count": 21,
   "metadata": {},
   "outputs": [
    {
     "name": "stdout",
     "output_type": "stream",
     "text": [
      "c:\\Users\\SethAntanah\\Desktop\\Projects\\Other Projects\\Streamlit Projects\\landsearch\\src\\dev\\map.html\n"
     ]
    }
   ],
   "source": [
    "# Get ordered points\n",
    "ordered_points = order_points_by_bearing(point_list)\n",
    "# Print the results\n",
    "visualize_coordinates_in_notebook(ordered_points)"
   ]
  },
  {
   "cell_type": "code",
   "execution_count": 20,
   "metadata": {},
   "outputs": [
    {
     "name": "stdout",
     "output_type": "stream",
     "text": [
      "c:\\Users\\SethAntanah\\Desktop\\Projects\\Other Projects\\Streamlit Projects\\landsearch\\src\\dev\\map.html\n"
     ]
    }
   ],
   "source": [
    "\n",
    "reordered_points = reorder_points(point_list)\n",
    "# Print the results\n",
    "visualize_coordinates_in_notebook(reordered_points)"
   ]
  },
  {
   "cell_type": "code",
   "execution_count": 22,
   "metadata": {},
   "outputs": [
    {
     "name": "stdout",
     "output_type": "stream",
     "text": [
      "c:\\Users\\SethAntanah\\Desktop\\Projects\\Other Projects\\Streamlit Projects\\landsearch\\src\\dev\\map.html\n"
     ]
    }
   ],
   "source": [
    "reordered_points = corr_arrange_points(point_list)\n",
    "# Print the results\n",
    "visualize_coordinates_in_notebook(reordered_points)"
   ]
  },
  {
   "cell_type": "markdown",
   "metadata": {},
   "source": [
    "### Spot Ref point"
   ]
  },
  {
   "cell_type": "code",
   "execution_count": 34,
   "metadata": {},
   "outputs": [],
   "source": [
    "def find_reference_point(points):\n",
    "    \"\"\"\n",
    "    Identifies the reference point in a set of coordinates by finding the point\n",
    "    that's furthest from the centroid of all points.\n",
    "    \n",
    "    Args:\n",
    "        points (list): List of dictionaries containing latitude, longitude, and ref_point\n",
    "        \n",
    "    Returns:\n",
    "        dict: The identified reference point and its index\n",
    "    \"\"\"\n",
    "    def calculate_distance(p1, p2):\n",
    "        \"\"\"Calculate the Euclidean distance between two points.\"\"\"\n",
    "        return ((p1['latitude'] - p2['latitude'])**2 + \n",
    "                (p1['longitude'] - p2['longitude'])**2)**0.5\n",
    "    \n",
    "    def calculate_centroid(points):\n",
    "        \"\"\"Calculate the centroid of all points.\"\"\"\n",
    "        if not points:\n",
    "            return None\n",
    "        \n",
    "        lat_sum = sum(p['latitude'] for p in points)\n",
    "        lon_sum = sum(p['longitude'] for p in points)\n",
    "        count = len(points)\n",
    "        \n",
    "        return {\n",
    "            'latitude': lat_sum / count,\n",
    "            'longitude': lon_sum / count,\n",
    "            'ref_point': False\n",
    "        }\n",
    "    \n",
    "    def find_outlier_score(points):\n",
    "        \"\"\"\n",
    "        Calculate an outlier score for each point based on its average distance\n",
    "        to all other points.\n",
    "        \"\"\"\n",
    "        scores = []\n",
    "        for i, point in enumerate(points):\n",
    "            total_distance = 0\n",
    "            for j, other_point in enumerate(points):\n",
    "                if i != j:\n",
    "                    total_distance += calculate_distance(point, other_point)\n",
    "            avg_distance = total_distance / (len(points) - 1)\n",
    "            scores.append((avg_distance, i))\n",
    "        return scores\n",
    "\n",
    "    # Calculate outlier scores\n",
    "    outlier_scores = find_outlier_score(points)\n",
    "    \n",
    "    # Find the point with the highest outlier score\n",
    "    max_score, max_index = max(outlier_scores)\n",
    "    return {\n",
    "        'reference_point': points[max_index],\n",
    "        'index': max_index\n",
    "    }\n"
   ]
  },
  {
   "cell_type": "code",
   "execution_count": 35,
   "metadata": {},
   "outputs": [
    {
     "name": "stdout",
     "output_type": "stream",
     "text": [
      "Reference point found at index: 3\n",
      "Coordinates: Lat 5.777552603198304, Lon -0.097168428017529\n"
     ]
    }
   ],
   "source": [
    "# Find the reference point\n",
    "result = find_reference_point(point_list)\n",
    "\n",
    "# Print results\n",
    "print(f\"Reference point found at index: {result['index']}\")\n",
    "print(f\"Coordinates: Lat {result['reference_point']['latitude']}, Lon {result['reference_point']['longitude']}\")"
   ]
  }
 ],
 "metadata": {
  "kernelspec": {
   "display_name": ".venv",
   "language": "python",
   "name": "python3"
  },
  "language_info": {
   "codemirror_mode": {
    "name": "ipython",
    "version": 3
   },
   "file_extension": ".py",
   "mimetype": "text/x-python",
   "name": "python",
   "nbconvert_exporter": "python",
   "pygments_lexer": "ipython3",
   "version": "3.13.0"
  }
 },
 "nbformat": 4,
 "nbformat_minor": 2
}
